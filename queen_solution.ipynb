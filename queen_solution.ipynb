import random
            
def random_chrom(size):
    return [ random.randint(1, number) for _ in range(number) ]

def fitness(chrom):
    H_C = sum([chrom.count(queen)-1 for queen in chrom])/2
    D_C = 0

    n = len(chrom)
    left_diagonal = [0] * 2*n
    right_diagonal = [0] * 2*n
    for i in range(n):
        left_diagonal[i + chrom[i] - 1] += 1
        right_diagonal[len(chrom) - i + chrom[i] - 2] += 1

    D_C = 0
    for i in range(2*n-1):
        counter = 0
        if left_diagonal[i] > 1:
            counter += left_diagonal[i]-1
        if right_diagonal[i] > 1:
            counter += right_diagonal[i]-1
        D_C += counter / (n-abs(i-n+1))
    
    return int(maxFitness - (H_C + D_C)) 

def probability(chrom, fitness):
    return fitness(chrom) / maxFitness

def random_pick(count, prob):
    countWithProbabilty = zip(count,prob)
    total = sum(w for c, w in countWithProbabilty)
    r = random.uniform(0, total)
    upto = 0
    for c, w in zip(count, prob):
        if upto + w >= r:
            return c
        upto += w
    assert False, " "
        
def reproduce(x, y): 
    n = len(x)
    c = random.randint(0, n - 1)
    return x[0:c] + y[c:n]

def mutate(x):  
    n = len(x)
    c = random.randint(0, n - 1)
    m = random.randint(1, n)
    x[c] = m
    return x

def genetic_queen(count, fitness):
    mutation_probability = 0.03
    new_count = []
    prob = [probability(n, fitness) for n in count]
    for i in range(len(count)):
        x = random_pick(count, prob) 
        y = random_pick(count, prob) 
        child = reproduce(x, y)
        if random.random() < mutation_probability:
            child = mutate(child)
        print_chrom(child)
        new_count.append(child)
        if fitness(child) == maxFitness: break
    return new_count

def print_chrom(chrom):
        print("input = {},  fit_value = {}".format(str(chrom), fitness(chrom)))

number = 8
maxFitness = (number*(number-1))/2  
count = [random_chrom(number) for _ in range(100)]
print(count)
gene = 1
while not maxFitness in [fitness(chrom) for chrom in count]:
        print("input gene {} =".format(gene))
        count = genetic_queen(count, fitness)
        print("")
        print("Max Fit value = {}".format(max([fitness(n) for n in count])))
        gene += 1
chrom_out = []
print("Solved  {}!".format(gene-1))
for chrom in count:
 if fitness(chrom) == maxFitness:
            print("");
            print("solutions: ")
            chrom_out = chrom
            print_chrom(chrom)
            
